{
 "cells": [
  {
   "attachments": {},
   "cell_type": "markdown",
   "id": "1e233234",
   "metadata": {},
   "source": [
    "## Student Performance Indicator\n"
   ]
  },
  {
   "cell_type": "markdown",
   "id": "62e05101",
   "metadata": {},
   "source": [
    "#### Life cycle of Machine learning Project\n",
    "\n",
    "- Understanding the Problem Statement\n",
    "- Data Collection\n",
    "- Data Checks to perform\n",
    "- Exploratory data analysis\n",
    "- Data Pre-Processing\n",
    "- Model Training\n",
    "- Choose best model"
   ]
  },
  {
   "cell_type": "markdown",
   "id": "dfcea981",
   "metadata": {},
   "source": [
    "### 1) Problem statement\n",
    "- This project understands how the student's performance (test scores) is affected by other variables such as Gender, Ethnicity, Parental level of education, Lunch and Test preparation course.\n",
    "\n",
    "\n",
    "### 2) Data Collection\n",
    "- Dataset Source - https://www.kaggle.com/datasets/spscientist/students-performance-in-exams?datasetId=74977\n",
    "- The data consists of 8 column and 1000 rows."
   ]
  },
  {
   "cell_type": "markdown",
   "id": "15b1355f",
   "metadata": {},
   "source": [
    "### 2.1 Import Data and Required Packages\n",
    "####  Importing Pandas, Numpy, Matplotlib, Seaborn and Warings Library."
   ]
  },
  {
   "cell_type": "code",
   "execution_count": null,
   "id": "7eaae1d7",
   "metadata": {},
   "outputs": [],
   "source": [
    "import numpy as np\n",
    "import pandas as pd\n",
    "import seaborn as sns\n",
    "import matplotlib.pyplot as plt\n",
    "%matplotlib inline\n",
    "import warnings\n",
    "warnings.filterwarnings('ignore')"
   ]
  },
  {
   "cell_type": "markdown",
   "id": "3caeb0bb",
   "metadata": {},
   "source": [
    "#### Import the CSV Data as Pandas DataFrame"
   ]
  },
  {
   "cell_type": "code",
   "execution_count": null,
   "id": "57907087",
   "metadata": {},
   "outputs": [],
   "source": [
    "df = pd.read_csv('data/stud.csv')"
   ]
  },
  {
   "cell_type": "markdown",
   "id": "92c8fd8a",
   "metadata": {},
   "source": [
    "#### Show Top 5 Records"
   ]
  },
  {
   "cell_type": "code",
   "execution_count": null,
   "id": "7d1a2a0b",
   "metadata": {},
   "outputs": [],
   "source": [
    "df.head()"
   ]
  },
  {
   "cell_type": "markdown",
   "id": "56a49220",
   "metadata": {},
   "source": [
    "#### Shape of the dataset"
   ]
  },
  {
   "cell_type": "code",
   "execution_count": null,
   "id": "417e5820",
   "metadata": {},
   "outputs": [],
   "source": [
    "df.shape"
   ]
  },
  {
   "cell_type": "markdown",
   "id": "041aa39d",
   "metadata": {},
   "source": [
    "### 2.2 Dataset information"
   ]
  },
  {
   "cell_type": "markdown",
   "id": "7e3cff9d",
   "metadata": {},
   "source": [
    "- gender : sex of students  -> (Male/female)\n",
    "- race/ethnicity : ethnicity of students -> (Group A, B,C, D,E)\n",
    "- parental level of education : parents' final education ->(bachelor's degree,some college,master's degree,associate's degree,high school)\n",
    "- lunch : having lunch before test (standard or free/reduced) \n",
    "- test preparation course : complete or not complete before test\n",
    "- math score\n",
    "- reading score\n",
    "- writing score"
   ]
  },
  {
   "cell_type": "markdown",
   "id": "27c4b61b",
   "metadata": {},
   "source": [
    "### 3. Data Checks to perform\n",
    "\n",
    "- Check Missing values\n",
    "- Check Duplicates\n",
    "- Check data type\n",
    "- Check the number of unique values of each column\n",
    "- Check statistics of data set\n",
    "- Check various categories present in the different categorical column"
   ]
  },
  {
   "cell_type": "markdown",
   "id": "c31d4123",
   "metadata": {},
   "source": [
    "### 3.1 Check Missing values"
   ]
  },
  {
   "cell_type": "code",
   "execution_count": null,
   "id": "707d6a7b",
   "metadata": {},
   "outputs": [],
   "source": [
    "# Checking for missing values in the DataFrame\n",
    "\n",
    "# The isna() function returns a DataFrame of the same shape as df, \n",
    "# with Boolean values indicating where values are missing (NaN).\n",
    "missing_values = df.isna()\n",
    "\n",
    "# The sum() function, when called on a DataFrame, \n",
    "# returns the sum of values for each column. \n",
    "# Since the DataFrame contains Boolean values (True for NaN, False otherwise),\n",
    "# summing them will count the number of missing values in each column.\n",
    "missing_values_count = missing_values.sum()\n",
    "\n",
    "# Displaying the count of missing values for each column\n",
    "missing_values_count\n"
   ]
  },
  {
   "cell_type": "markdown",
   "id": "ce8f7b83",
   "metadata": {},
   "source": [
    "#### There are no missing values in the data set"
   ]
  },
  {
   "cell_type": "markdown",
   "id": "5840ff7f",
   "metadata": {},
   "source": [
    "### 3.2 Check Duplicates"
   ]
  },
  {
   "cell_type": "code",
   "execution_count": null,
   "id": "ae16686e",
   "metadata": {},
   "outputs": [],
   "source": [
    "# Checking for duplicated rows in the DataFrame\n",
    "\n",
    "# The duplicated() function returns a Boolean Series where each element is True \n",
    "# if the corresponding row is a duplicate (has identical values in all columns as another row).\n",
    "duplicated_rows = df.duplicated()\n",
    "#print(duplicated_rows)\n",
    "# The sum() function, when called on this Boolean Series, \n",
    "# counts the number of True values, which represents the number of duplicated rows.\n",
    "duplicated_rows_count = duplicated_rows.sum()\n",
    "\n",
    "# Displaying the count of duplicated rows\n",
    "duplicated_rows_count\n"
   ]
  },
  {
   "cell_type": "markdown",
   "id": "e5d7ae8e",
   "metadata": {},
   "source": [
    "#### There are no duplicates  values in the data set"
   ]
  },
  {
   "cell_type": "markdown",
   "id": "30dfacc8",
   "metadata": {},
   "source": [
    "### 3.3 Check data types"
   ]
  },
  {
   "cell_type": "code",
   "execution_count": null,
   "id": "25f95bc8",
   "metadata": {},
   "outputs": [],
   "source": [
    "# Displaying summary information about the DataFrame\n",
    "\n",
    "# The info() function provides a concise summary of the DataFrame.\n",
    "# It includes the following details:\n",
    "# 1. Index range (i.e., the number of rows).\n",
    "# 2. Column names and their data types.\n",
    "# 3. The number of non-null (non-missing) values in each column.\n",
    "# 4. Memory usage of the DataFrame.\n",
    "df.info()\n"
   ]
  },
  {
   "cell_type": "markdown",
   "id": "0dbbf5b4",
   "metadata": {},
   "source": [
    "### 3.4 Checking the number of unique values of each column"
   ]
  },
  {
   "cell_type": "code",
   "execution_count": null,
   "id": "2c2b61b6",
   "metadata": {},
   "outputs": [],
   "source": [
    "# Checking the number of unique values in each column of the DataFrame\n",
    "\n",
    "# The nunique() function returns a Series with the number of unique values for each column.\n",
    "# This can help in understanding the variability and uniqueness of data in each column.\n",
    "unique_values_count = df.nunique()\n",
    "\n",
    "# Displaying the count of unique values for each column\n",
    "unique_values_count\n"
   ]
  },
  {
   "cell_type": "markdown",
   "id": "a4f6b022",
   "metadata": {},
   "source": [
    "### 3.5 Check statistics of data set"
   ]
  },
  {
   "cell_type": "code",
   "execution_count": null,
   "id": "76c608dc",
   "metadata": {},
   "outputs": [],
   "source": [
    "# Generating descriptive statistics of the DataFrame\n",
    "\n",
    "# The describe() function returns a summary of statistics for numerical columns in the DataFrame.\n",
    "# By default, it includes count, mean, standard deviation, minimum, 25th percentile, 50th percentile (median), \n",
    "# 75th percentile, and maximum for each numerical column.\n",
    "# For categorical columns, it can provide statistics if the 'include' parameter is set to 'all' or 'object'.\n",
    "descriptive_stats = df.describe()\n",
    "\n",
    "# Displaying the summary of statistics\n",
    "descriptive_stats\n"
   ]
  },
  {
   "cell_type": "markdown",
   "id": "9dc41207",
   "metadata": {},
   "source": [
    "#### Insight\n",
    "- From above description of numerical data, all means are very close to each other - between 66 and 68.05;\n",
    "- All standard deviations are also close - between 14.6 and 15.19;\n",
    "- While there is a minimum score  0 for math, for writing minimum is much higher = 10 and for reading much higher = 17"
   ]
  },
  {
   "cell_type": "markdown",
   "id": "ac52d9cb",
   "metadata": {},
   "source": [
    "### 3.7 Exploring Data"
   ]
  },
  {
   "cell_type": "code",
   "execution_count": null,
   "id": "1afd3c09",
   "metadata": {},
   "outputs": [],
   "source": [
    "df.head()"
   ]
  },
  {
   "cell_type": "markdown",
   "id": "ec1e5c54",
   "metadata": {},
   "source": [
    "### Displaying unique categories in specific categorical columns of the DataFrame"
   ]
  },
  {
   "cell_type": "code",
   "execution_count": null,
   "id": "b9081742",
   "metadata": {},
   "outputs": [],
   "source": [
    "# Printing unique categories in the 'gender' variable\n",
    "print(\"Categories in 'gender' variable:     \", end=\" \")\n",
    "# The unique() function returns an array of unique values in the specified column\n",
    "print(df['gender'].unique())\n",
    "\n",
    "# Printing unique categories in the 'race_ethnicity' variable\n",
    "print(\"Categories in 'race_ethnicity' variable:  \", end=\" \")\n",
    "print(df['race_ethnicity'].unique())\n",
    "\n",
    "# Printing unique categories in the 'parental level of education' variable\n",
    "print(\"Categories in 'parental level of education' variable:\", end=\" \")\n",
    "print(df['parental_level_of_education'].unique())\n",
    "\n",
    "# Printing unique categories in the 'lunch' variable\n",
    "print(\"Categories in 'lunch' variable:     \", end=\" \")\n",
    "print(df['lunch'].unique())\n",
    "\n",
    "# Printing unique categories in the 'test preparation course' variable\n",
    "print(\"Categories in 'test preparation course' variable:     \", end=\" \")\n",
    "print(df['test_preparation_course'].unique())\n"
   ]
  },
  {
   "cell_type": "code",
   "execution_count": null,
   "id": "2dd97e26",
   "metadata": {},
   "outputs": [],
   "source": [
    "# Defining numerical and categorical columns\n",
    "\n",
    "# Creating a list of numerical features by checking the data type of each column\n",
    "# If the data type of a column is not 'O' (which stands for 'object', typically used for strings in pandas),\n",
    "# it is considered a numerical feature.\n",
    "numeric_features = [feature for feature in df.columns if df[feature].dtype != 'O']\n",
    "\n",
    "# Creating a list of categorical features by checking the data type of each column\n",
    "# If the data type of a column is 'O', it is considered a categorical feature.\n",
    "categorical_features = [feature for feature in df.columns if df[feature].dtype == 'O']\n",
    "\n",
    "# Printing the number of numerical features and their names\n",
    "print('We have {} numerical features: {}'.format(len(numeric_features), numeric_features))\n",
    "\n",
    "# Printing the number of categorical features and their names\n",
    "print('\\nWe have {} categorical features: {}'.format(len(categorical_features), categorical_features))\n"
   ]
  },
  {
   "cell_type": "code",
   "execution_count": null,
   "id": "ae2822d1",
   "metadata": {},
   "outputs": [],
   "source": [
    "df.head(2)"
   ]
  },
  {
   "cell_type": "markdown",
   "id": "bd42eda6",
   "metadata": {},
   "source": [
    "### 3.8 Adding columns for \"Total Score\" and \"Average\""
   ]
  },
  {
   "cell_type": "code",
   "execution_count": null,
   "id": "3ffbfdf7",
   "metadata": {},
   "outputs": [],
   "source": [
    "# Creating a new column 'total score' by summing up the scores from 'math_score', 'reading_score', and 'writing_score'\n",
    "df['total score'] = df['math_score'] + df['reading_score'] + df['writing_score']\n",
    "\n",
    "# Creating a new column 'average' by dividing the 'total score' by 3\n",
    "# This calculates the average score across the three subjects\n",
    "df['average'] = df['total score'] / 3\n",
    "\n",
    "# Displaying the first 5 rows of the DataFrame to verify the new columns\n",
    "df.head()\n"
   ]
  },
  {
   "cell_type": "code",
   "execution_count": null,
   "id": "26dc3844",
   "metadata": {},
   "outputs": [],
   "source": [
    "# Counting the number of students with full marks (100) in each subject\n",
    "\n",
    "# Counting the number of students with a reading score of 100\n",
    "# This filters the DataFrame to include only rows where 'reading_score' is 100,\n",
    "# and then counts the number of such rows by using the count() method on the 'average' column.\n",
    "reading_full = df[df['reading_score'] == 100]['average'].count()\n",
    "\n",
    "# Counting the number of students with a writing score of 100\n",
    "# This filters the DataFrame to include only rows where 'writing_score' is 100,\n",
    "# and then counts the number of such rows by using the count() method on the 'average' column.\n",
    "writing_full = df[df['writing_score'] == 100]['average'].count()\n",
    "\n",
    "# Counting the number of students with a math score of 100\n",
    "# This filters the DataFrame to include only rows where 'math_score' is 100,\n",
    "# and then counts the number of such rows by using the count() method on the 'average' column.\n",
    "math_full = df[df['math_score'] == 100]['average'].count()\n",
    "\n",
    "# Printing the number of students with full marks in each subject\n",
    "print(f'Number of students with full marks in Maths: {math_full}')\n",
    "print(f'Number of students with full marks in Writing: {writing_full}')\n",
    "print(f'Number of students with full marks in Reading: {reading_full}')\n"
   ]
  },
  {
   "cell_type": "code",
   "execution_count": null,
   "id": "572c8a75",
   "metadata": {},
   "outputs": [],
   "source": [
    "# Counting the number of students with scores less than or equal to 20 in each subject\n",
    "\n",
    "# Counting the number of students with a reading score less than or equal to 20\n",
    "# This filters the DataFrame to include only rows where 'reading_score' is <= 20,\n",
    "# and then counts the number of such rows by using the count() method on the 'average' column.\n",
    "reading_less_20 = df[df['reading_score'] <= 20]['average'].count()\n",
    "\n",
    "# Counting the number of students with a writing score less than or equal to 20\n",
    "# This filters the DataFrame to include only rows where 'writing_score' is <= 20,\n",
    "# and then counts the number of such rows by using the count() method on the 'average' column.\n",
    "writing_less_20 = df[df['writing_score'] <= 20]['average'].count()\n",
    "\n",
    "# Counting the number of students with a math score less than or equal to 20\n",
    "# This filters the DataFrame to include only rows where 'math_score' is <= 20,\n",
    "# and then counts the number of such rows by using the count() method on the 'average' column.\n",
    "math_less_20 = df[df['math_score'] <= 20]['average'].count()\n",
    "\n",
    "# Printing the number of students with less than or equal to 20 marks in each subject\n",
    "print(f'Number of students with less than or equal to 20 marks in Maths: {math_less_20}')\n",
    "print(f'Number of students with less than or equal to 20 marks in Writing: {writing_less_20}')\n",
    "print(f'Number of students with less than or equal to 20 marks in Reading: {reading_less_20}')\n"
   ]
  },
  {
   "cell_type": "markdown",
   "id": "190e078c",
   "metadata": {},
   "source": [
    "#####  Insights\n",
    " - From above values we get students have performed the worst in Maths \n",
    " - Best performance is in reading section"
   ]
  },
  {
   "cell_type": "markdown",
   "id": "e598bc93",
   "metadata": {},
   "source": [
    "### 4. Exploring Data ( Visualization )\n",
    "#### 4.1 Visualize average score distribution to make some conclusion. \n",
    "- Histogram\n",
    "- Kernel Distribution Function (KDE)"
   ]
  },
  {
   "cell_type": "markdown",
   "id": "f4726058",
   "metadata": {},
   "source": [
    "#### 4.1.1 Histogram & KDE"
   ]
  },
  {
   "cell_type": "code",
   "execution_count": null,
   "id": "c2510266",
   "metadata": {},
   "outputs": [],
   "source": [
    "# Creating a figure with two subplots side by side\n",
    "\n",
    "# fig, axs = plt.subplots(1, 2, figsize=(15, 7)) initializes a figure with 1 row and 2 columns of subplots.\n",
    "# figsize=(15, 7) sets the size of the entire figure to be 15 inches wide and 7 inches tall.\n",
    "fig, axs = plt.subplots(1, 2, figsize=(15, 7))\n",
    "\n",
    "# Plotting the first subplot\n",
    "# plt.subplot(121) specifies that the following plot will be drawn in the first subplot (1st row, 2nd column)\n",
    "plt.subplot(121)\n",
    "# sns.histplot() creates a histogram with KDE (Kernel Density Estimate) for the 'average' column of the DataFrame 'df'.\n",
    "# bins=30 sets the number of bins for the histogram.\n",
    "# kde=True adds a KDE line to the histogram.\n",
    "# color='g' sets the color of the histogram to green.\n",
    "sns.histplot(data=df, x='average', bins=30, kde=True, color='g')\n",
    "\n",
    "# Plotting the second subplot\n",
    "# plt.subplot(122) specifies that the following plot will be drawn in the second subplot (1st row, 2nd column)\n",
    "plt.subplot(122)\n",
    "# sns.histplot() creates a histogram with KDE for the 'average' column of the DataFrame 'df'.\n",
    "# kde=True adds a KDE line to the histogram.\n",
    "# hue='gender' adds a hue dimension, splitting the data by 'gender' and coloring the histogram differently for each gender.\n",
    "sns.histplot(data=df, x='average', kde=True, hue='gender')\n",
    "\n",
    "# Displaying the plots\n",
    "plt.show()\n"
   ]
  },
  {
   "cell_type": "code",
   "execution_count": null,
   "id": "e7967c7a",
   "metadata": {},
   "outputs": [],
   "source": [
    "# Creating a figure with two subplots side by side\n",
    "\n",
    "# fig, axs = plt.subplots(1, 2, figsize=(15, 7)) initializes a figure with 1 row and 2 columns of subplots.\n",
    "# figsize=(15, 7) sets the size of the entire figure to be 15 inches wide and 7 inches tall.\n",
    "fig, axs = plt.subplots(1, 2, figsize=(15, 7))\n",
    "\n",
    "# Plotting the first subplot\n",
    "# plt.subplot(121) specifies that the following plot will be drawn in the first subplot (1st row, 1st column)\n",
    "plt.subplot(121)\n",
    "# sns.histplot() creates a histogram with KDE (Kernel Density Estimate) for the 'total score' column of the DataFrame 'df'.\n",
    "# bins=30 sets the number of bins for the histogram.\n",
    "# kde=True adds a KDE line to the histogram.\n",
    "# color='g' sets the color of the histogram to green.\n",
    "sns.histplot(data=df, x='total score', bins=30, kde=True, color='g')\n",
    "\n",
    "# Plotting the second subplot\n",
    "# plt.subplot(122) specifies that the following plot will be drawn in the second subplot (1st row, 2nd column)\n",
    "plt.subplot(122)\n",
    "# sns.histplot() creates a histogram with KDE for the 'total score' column of the DataFrame 'df'.\n",
    "# kde=True adds a KDE line to the histogram.\n",
    "# hue='gender' adds a hue dimension, splitting the data by 'gender' and coloring the histogram differently for each gender.\n",
    "sns.histplot(data=df, x='total score', kde=True, hue='gender')\n",
    "\n",
    "# Displaying the plots\n",
    "plt.show()\n"
   ]
  },
  {
   "cell_type": "markdown",
   "id": "3d200b76",
   "metadata": {},
   "source": [
    "#####  Insights\n",
    "- Female students tend to perform well then male students."
   ]
  },
  {
   "cell_type": "code",
   "execution_count": null,
   "id": "15522737",
   "metadata": {},
   "outputs": [],
   "source": [
    "# Creating a figure with three subplots side by side\n",
    "\n",
    "# plt.subplots(1, 3, figsize=(25, 6)) initializes a figure with 1 row and 3 columns of subplots.\n",
    "# figsize=(25, 6) sets the size of the entire figure to be 25 inches wide and 6 inches tall.\n",
    "plt.subplots(1, 3, figsize=(25, 6))\n",
    "\n",
    "# Plotting the first subplot\n",
    "# plt.subplot(141) specifies that the following plot will be drawn in the first subplot (1st row, 4 columns, 1st position)\n",
    "plt.subplot(141)\n",
    "# sns.histplot() creates a histogram with KDE (Kernel Density Estimate) for the 'average' column of the DataFrame 'df'.\n",
    "# kde=True adds a KDE line to the histogram.\n",
    "# hue='lunch' adds a hue dimension, splitting the data by 'lunch' and coloring the histogram differently for each lunch type.\n",
    "sns.histplot(data=df, x='average', kde=True, hue='lunch')\n",
    "\n",
    "# Plotting the second subplot\n",
    "# plt.subplot(142) specifies that the following plot will be drawn in the second subplot (1st row, 4 columns, 2nd position)\n",
    "plt.subplot(142)\n",
    "# sns.histplot() creates a histogram with KDE for the 'average' column of the DataFrame 'df' filtered to include only female students.\n",
    "# kde=True adds a KDE line to the histogram.\n",
    "# hue='lunch' adds a hue dimension, splitting the data by 'lunch' and coloring the histogram differently for each lunch type.\n",
    "sns.histplot(data=df[df.gender == 'female'], x='average', kde=True, hue='lunch')\n",
    "\n",
    "# Plotting the third subplot\n",
    "# plt.subplot(143) specifies that the following plot will be drawn in the third subplot (1st row, 4 columns, 3rd position)\n",
    "plt.subplot(143)\n",
    "# sns.histplot() creates a histogram with KDE for the 'average' column of the DataFrame 'df' filtered to include only male students.\n",
    "# kde=True adds a KDE line to the histogram.\n",
    "# hue='lunch' adds a hue dimension, splitting the data by 'lunch' and coloring the histogram differently for each lunch type.\n",
    "sns.histplot(data=df[df.gender == 'male'], x='average', kde=True, hue='lunch')\n",
    "\n",
    "# Displaying the plots\n",
    "plt.show()\n"
   ]
  },
  {
   "cell_type": "markdown",
   "id": "569113e7",
   "metadata": {},
   "source": [
    "#####  Insights\n",
    "- Standard lunch helps perform well in exams.\n",
    "- Standard lunch helps perform well in exams be it a male or a female."
   ]
  },
  {
   "cell_type": "code",
   "execution_count": null,
   "id": "0b6c697a",
   "metadata": {},
   "outputs": [],
   "source": [
    "# Creating a figure with three subplots side by side\n",
    "\n",
    "# plt.subplots(1, 3, figsize=(25, 6)) initializes a figure with 1 row and 3 columns of subplots.\n",
    "# figsize=(25, 6) sets the size of the entire figure to be 25 inches wide and 6 inches tall.\n",
    "plt.subplots(1, 3, figsize=(25, 6))\n",
    "\n",
    "# Plotting the first subplot\n",
    "# plt.subplot(141) specifies that the following plot will be drawn in the first subplot (1st row, 4 columns, 1st position)\n",
    "plt.subplot(141)\n",
    "# sns.histplot() creates a histogram with KDE (Kernel Density Estimate) for the 'average' column of the DataFrame 'df'.\n",
    "# kde=True adds a KDE line to the histogram.\n",
    "# hue='parental_level_of_education' adds a hue dimension, splitting the data by 'parental_level_of_education' and coloring the histogram differently for each education level.\n",
    "ax = sns.histplot(data=df, x='average', kde=True, hue='parental_level_of_education')\n",
    "\n",
    "# Plotting the second subplot\n",
    "# plt.subplot(142) specifies that the following plot will be drawn in the second subplot (1st row, 4 columns, 2nd position)\n",
    "plt.subplot(142)\n",
    "# sns.histplot() creates a histogram with KDE for the 'average' column of the DataFrame 'df' filtered to include only male students.\n",
    "# kde=True adds a KDE line to the histogram.\n",
    "# hue='parental_level_of_education' adds a hue dimension, splitting the data by 'parental_level_of_education' and coloring the histogram differently for each education level.\n",
    "ax = sns.histplot(data=df[df.gender == 'male'], x='average', kde=True, hue='parental_level_of_education')\n",
    "\n",
    "# Plotting the third subplot\n",
    "# plt.subplot(143) specifies that the following plot will be drawn in the third subplot (1st row, 4 columns, 3rd position)\n",
    "plt.subplot(143)\n",
    "# sns.histplot() creates a histogram with KDE for the 'average' column of the DataFrame 'df' filtered to include only female students.\n",
    "# kde=True adds a KDE line to the histogram.\n",
    "# hue='parental_level_of_education' adds a hue dimension, splitting the data by 'parental_level_of_education' and coloring the histogram differently for each education level.\n",
    "ax = sns.histplot(data=df[df.gender == 'female'], x='average', kde=True, hue='parental_level_of_education')\n",
    "\n",
    "# Displaying the plots\n",
    "plt.show()\n"
   ]
  },
  {
   "cell_type": "markdown",
   "id": "9e7fd489",
   "metadata": {},
   "source": [
    "#####  Insights\n",
    "- In general parent's education don't help student perform well in exam.\n",
    "- 2nd plot shows that parent's whose education is of associate's degree or master's degree their male child tend to perform well in exam\n",
    "- 3rd plot we can see there is no effect of parent's education on female students."
   ]
  },
  {
   "cell_type": "code",
   "execution_count": null,
   "id": "0b30cbd7",
   "metadata": {},
   "outputs": [],
   "source": [
    "plt.subplots(1,3,figsize=(25,6))\n",
    "plt.subplot(141)\n",
    "ax =sns.histplot(data=df,x='average',kde=True,hue='race_ethnicity')\n",
    "plt.subplot(142)\n",
    "ax =sns.histplot(data=df[df.gender=='female'],x='average',kde=True,hue='race_ethnicity')\n",
    "plt.subplot(143)\n",
    "ax =sns.histplot(data=df[df.gender=='male'],x='average',kde=True,hue='race_ethnicity')\n",
    "plt.show()"
   ]
  },
  {
   "cell_type": "markdown",
   "id": "6180a334",
   "metadata": {},
   "source": [
    "#####  Insights\n",
    "- Students of group A and group B tends to perform poorly in exam.\n",
    "- Students of group A and group B tends to perform poorly in exam irrespective of whether they are male or female"
   ]
  },
  {
   "cell_type": "markdown",
   "id": "a1f7eef3",
   "metadata": {},
   "source": [
    "#### 4.2 Maximumum score of students in all three subjects"
   ]
  },
  {
   "cell_type": "code",
   "execution_count": null,
   "id": "14db115f",
   "metadata": {},
   "outputs": [],
   "source": [
    "# Creating a figure with a specific size\n",
    "plt.figure(figsize=(18, 8))\n",
    "\n",
    "# Plotting the first subplot\n",
    "# plt.subplot(1, 4, 1) specifies that the following plot will be drawn in the first subplot (1st row, 4 columns, 1st position)\n",
    "plt.subplot(1, 4, 1)\n",
    "# Setting the title for the first subplot\n",
    "plt.title('MATH SCORES')\n",
    "# sns.violinplot() creates a violin plot for the 'math_score' column of the DataFrame 'df'.\n",
    "# y='math_score' specifies that the 'math_score' values will be plotted on the y-axis.\n",
    "# color='red' sets the color of the violin plot to red.\n",
    "# linewidth=3 sets the width of the lines in the violin plot to 3.\n",
    "sns.violinplot(y='math_score', data=df, color='red', linewidth=3)\n",
    "\n",
    "# Plotting the second subplot\n",
    "# plt.subplot(1, 4, 2) specifies that the following plot will be drawn in the second subplot (1st row, 4 columns, 2nd position)\n",
    "plt.subplot(1, 4, 2)\n",
    "# Setting the title for the second subplot\n",
    "plt.title('READING SCORES')\n",
    "# sns.violinplot() creates a violin plot for the 'reading_score' column of the DataFrame 'df'.\n",
    "# y='reading_score' specifies that the 'reading_score' values will be plotted on the y-axis.\n",
    "# color='green' sets the color of the violin plot to green.\n",
    "# linewidth=3 sets the width of the lines in the violin plot to 3.\n",
    "sns.violinplot(y='reading_score', data=df, color='green', linewidth=3)\n",
    "\n",
    "# Plotting the third subplot\n",
    "# plt.subplot(1, 4, 3) specifies that the following plot will be drawn in the third subplot (1st row, 4 columns, 3rd position)\n",
    "plt.subplot(1, 4, 3)\n",
    "# Setting the title for the third subplot\n",
    "plt.title('WRITING SCORES')\n",
    "# sns.violinplot() creates a violin plot for the 'writing_score' column of the DataFrame 'df'.\n",
    "# y='writing_score' specifies that the 'writing_score' values will be plotted on the y-axis.\n",
    "# color='blue' sets the color of the violin plot to blue.\n",
    "# linewidth=3 sets the width of the lines in the violin plot to 3.\n",
    "sns.violinplot(y='writing_score', data=df, color='blue', linewidth=3)\n",
    "\n",
    "# Displaying the plots\n",
    "plt.show()\n"
   ]
  },
  {
   "cell_type": "markdown",
   "id": "66d1041f",
   "metadata": {},
   "source": [
    "#### Insights\n",
    "- From the above three plots its clearly visible that most of the students score in between 60-80 in Maths whereas in reading and writing most of them score from 50-80"
   ]
  },
  {
   "cell_type": "markdown",
   "id": "ae77a33d",
   "metadata": {},
   "source": [
    "#### 4.3 Multivariate analysis using pieplot"
   ]
  },
  {
   "cell_type": "code",
   "execution_count": null,
   "id": "2ddf9ce3",
   "metadata": {},
   "outputs": [],
   "source": [
    "# Setting the figure size for all subplots\n",
    "plt.rcParams['figure.figsize'] = (30, 12)\n",
    "\n",
    "# Plotting the first pie chart for gender distribution\n",
    "plt.subplot(1, 5, 1)\n",
    "# Calculating the value counts for the 'gender' column\n",
    "size = df['gender'].value_counts()\n",
    "# Defining labels and colors for the pie chart\n",
    "labels = 'Female', 'Male'\n",
    "color = ['red', 'green']\n",
    "# Creating the pie chart\n",
    "plt.pie(size, colors=color, labels=labels, autopct='.%2f%%')\n",
    "# Setting the title for the pie chart\n",
    "plt.title('Gender', fontsize=20)\n",
    "# Turning off the axis\n",
    "plt.axis('off')\n",
    "\n",
    "# Plotting the second pie chart for race/ethnicity distribution\n",
    "plt.subplot(1, 5, 2)\n",
    "# Calculating the value counts for the 'race_ethnicity' column\n",
    "size = df['race_ethnicity'].value_counts()\n",
    "# Defining labels and colors for the pie chart\n",
    "labels = 'Group C', 'Group D', 'Group B', 'Group E', 'Group A'\n",
    "color = ['red', 'green', 'blue', 'cyan', 'orange']\n",
    "# Creating the pie chart\n",
    "plt.pie(size, colors=color, labels=labels, autopct='.%2f%%')\n",
    "# Setting the title for the pie chart\n",
    "plt.title('Race/Ethnicity', fontsize=20)\n",
    "# Turning off the axis\n",
    "plt.axis('off')\n",
    "\n",
    "# Plotting the third pie chart for lunch type distribution\n",
    "plt.subplot(1, 5, 3)\n",
    "# Calculating the value counts for the 'lunch' column\n",
    "size = df['lunch'].value_counts()\n",
    "# Defining labels and colors for the pie chart\n",
    "labels = 'Standard', 'Free'\n",
    "color = ['red', 'green']\n",
    "# Creating the pie chart\n",
    "plt.pie(size, colors=color, labels=labels, autopct='.%2f%%')\n",
    "# Setting the title for the pie chart\n",
    "plt.title('Lunch', fontsize=20)\n",
    "# Turning off the axis\n",
    "plt.axis('off')\n",
    "\n",
    "# Plotting the fourth pie chart for test preparation course completion\n",
    "plt.subplot(1, 5, 4)\n",
    "# Calculating the value counts for the 'test_preparation_course' column\n",
    "size = df['test_preparation_course'].value_counts()\n",
    "# Defining labels and colors for the pie chart\n",
    "labels = 'None', 'Completed'\n",
    "color = ['red', 'green']\n",
    "# Creating the pie chart\n",
    "plt.pie(size, colors=color, labels=labels, autopct='.%2f%%')\n",
    "# Setting the title for the pie chart\n",
    "plt.title('Test Course', fontsize=20)\n",
    "# Turning off the axis\n",
    "plt.axis('off')\n",
    "\n",
    "# Plotting the fifth pie chart for parental level of education\n",
    "plt.subplot(1, 5, 5)\n",
    "# Calculating the value counts for the 'parental_level_of_education' column\n",
    "size = df['parental_level_of_education'].value_counts()\n",
    "# Defining labels and colors for the pie chart\n",
    "labels = 'Some College', \"Associate's Degree\", 'High School', 'Some High School', \"Bachelor's Degree\", \"Master's Degree\"\n",
    "color = ['red', 'green', 'blue', 'cyan', 'orange', 'grey']\n",
    "# Creating the pie chart\n",
    "plt.pie(size, colors=color, labels=labels, autopct='.%2f%%')\n",
    "# Setting the title for the pie chart\n",
    "plt.title('Parental Education', fontsize=20)\n",
    "# Turning off the axis\n",
    "plt.axis('off')\n",
    "\n",
    "# Adjusting layout to prevent overlap\n",
    "plt.tight_layout()\n",
    "\n",
    "# Adding a grid to the entire figure (optional and might not be very useful for pie charts)\n",
    "plt.grid()\n",
    "\n",
    "# Displaying all the plots\n",
    "plt.show()\n"
   ]
  },
  {
   "cell_type": "markdown",
   "id": "2e2d686a",
   "metadata": {},
   "source": [
    "#####  Insights\n",
    "- Number of Male and Female students is almost equal\n",
    "- Number students are greatest in Group C\n",
    "- Number of students who have standard lunch are greater\n",
    "- Number of students who have not enrolled in any test preparation course is greater\n",
    "- Number of students whose parental education is \"Some College\" is greater followed closely by \"Associate's Degree\""
   ]
  },
  {
   "cell_type": "markdown",
   "id": "ab008237",
   "metadata": {},
   "source": [
    "#### 4.4 Feature Wise Visualization\n",
    "#### 4.4.1 GENDER COLUMN\n",
    "- How is distribution of Gender ?\n",
    "- Is gender has any impact on student's performance ?"
   ]
  },
  {
   "cell_type": "markdown",
   "id": "e1a2c8f5",
   "metadata": {},
   "source": [
    "#### UNIVARIATE ANALYSIS ( How is distribution of Gender ? )"
   ]
  },
  {
   "cell_type": "code",
   "execution_count": null,
   "id": "c435f53b",
   "metadata": {},
   "outputs": [],
   "source": [
    "# Creating a figure with two subplots side by side\n",
    "f, ax = plt.subplots(1, 2, figsize=(20, 10))\n",
    "\n",
    "# Plotting a count plot for gender distribution\n",
    "# sns.countplot() creates a bar plot that shows the count of observations in each categorical bin using bars.\n",
    "# x=df['gender'] specifies the data to be plotted on the x-axis (the 'gender' column of the DataFrame 'df').\n",
    "# data=df specifies the DataFrame containing the data.\n",
    "# palette='bright' sets the color palette to 'bright'.\n",
    "# ax=ax[0] specifies that the plot should be drawn on the first subplot.\n",
    "# saturation=0.95 sets the saturation level of the colors.\n",
    "sns.countplot(x=df['gender'], data=df, palette='bright', ax=ax[0], saturation=0.95)\n",
    "\n",
    "# Adding labels to the bars in the count plot\n",
    "# for container in ax[0].containers iterates over all the containers (bars) in the first subplot.\n",
    "# ax[0].bar_label(container, color='black', size=20) adds labels to the bars with specified color and size.\n",
    "for container in ax[0].containers:\n",
    "    ax[0].bar_label(container, color='black', size=20)\n",
    "\n",
    "# Plotting a pie chart for gender distribution\n",
    "# plt.pie() creates a pie chart.\n",
    "# x=df['gender'].value_counts() provides the sizes of the wedges (the count of each gender).\n",
    "# labels=['Male', 'Female'] specifies the labels for the wedges.\n",
    "# explode=[0, 0.1] \"explodes\" the second wedge (Female) out slightly to emphasize it.\n",
    "# autopct='%1.1f%%' formats the labels to show percentages with one decimal place.\n",
    "# shadow=True adds a shadow to the pie chart.\n",
    "# colors=['#ff4d4d', '#ff8000'] specifies the colors of the wedges.\n",
    "plt.pie(x=df['gender'].value_counts(), labels=['Male', 'Female'], explode=[0, 0.1], autopct='%1.1f%%', shadow=True, colors=['#ff4d4d', '#ff8000'])\n",
    "\n",
    "# Displaying the plots\n",
    "plt.show()\n"
   ]
  },
  {
   "cell_type": "markdown",
   "id": "e440a3a5",
   "metadata": {},
   "source": [
    "#### BIVARIATE ANALYSIS ( Is gender has any impact on student's performance ? ) "
   ]
  },
  {
   "cell_type": "code",
   "execution_count": null,
   "id": "526d49f9",
   "metadata": {},
   "outputs": [],
   "source": [
    "# Selecting only the numeric columns from the DataFrame\n",
    "numeric_df = df.select_dtypes(include=[np.number])\n",
    "\n",
    "# Grouping the DataFrame by the 'gender' column and calculating the mean for each group\n",
    "gender_group = df.groupby('gender')[numeric_df.columns].mean()\n",
    "\n",
    "# Displaying the resulting DataFrame\n",
    "gender_group\n"
   ]
  },
  {
   "cell_type": "code",
   "execution_count": null,
   "id": "b704f144",
   "metadata": {},
   "outputs": [],
   "source": [
    "# Setting the size of the figure\n",
    "plt.figure(figsize=(10, 8))\n",
    "\n",
    "# Defining the categories for the x-axis\n",
    "X = ['Total Average', 'Math Average']\n",
    "\n",
    "# Extracting the average scores for females and males from the gender_group DataFrame\n",
    "female_scores = [gender_group['average'][0], gender_group['math_score'][0]]\n",
    "male_scores = [gender_group['average'][1], gender_group['math_score'][1]]\n",
    "\n",
    "# Creating the x-axis positions\n",
    "X_axis = np.arange(len(X))\n",
    "\n",
    "# Plotting the bar chart\n",
    "# plt.bar() creates bar charts\n",
    "# X_axis - 0.2 shifts the male bars slightly to the left\n",
    "# male_scores is the height of the bars for males\n",
    "# 0.4 is the width of the bars\n",
    "# label='Male' provides a label for the legend\n",
    "plt.bar(X_axis - 0.2, male_scores, 0.4, label='Male')\n",
    "\n",
    "# X_axis + 0.2 shifts the female bars slightly to the right\n",
    "# female_scores is the height of the bars for females\n",
    "plt.bar(X_axis + 0.2, female_scores, 0.4, label='Female')\n",
    "\n",
    "# Setting the x-axis tick positions and labels\n",
    "plt.xticks(X_axis, X)\n",
    "\n",
    "# Labeling the y-axis\n",
    "plt.ylabel(\"Marks\")\n",
    "\n",
    "# Setting the title of the plot\n",
    "plt.title(\"Total average vs Math average marks of both the genders\", fontweight='bold')\n",
    "\n",
    "# Displaying the legend\n",
    "plt.legend()\n",
    "\n",
    "# Displaying the plot\n",
    "plt.show()\n"
   ]
  },
  {
   "cell_type": "markdown",
   "id": "72fbab62",
   "metadata": {},
   "source": [
    "#### Insights \n",
    "- On an average females have a better overall score than men.\n",
    "- whereas males have scored higher in Maths."
   ]
  },
  {
   "cell_type": "markdown",
   "id": "1a903c5c",
   "metadata": {},
   "source": [
    "#### 4.4.2 RACE/EHNICITY COLUMN\n",
    "- How is Group wise distribution ?\n",
    "- Is Race/Ehnicity has any impact on student's performance ?"
   ]
  },
  {
   "cell_type": "markdown",
   "id": "69fe557f",
   "metadata": {},
   "source": [
    "#### UNIVARIATE ANALYSIS ( How is Group wise distribution ?)"
   ]
  },
  {
   "cell_type": "code",
   "execution_count": null,
   "id": "acbc5c8e",
   "metadata": {},
   "outputs": [],
   "source": [
    "# Creating a figure with two subplots side by side\n",
    "f, ax = plt.subplots(1, 2, figsize=(20, 10))\n",
    "\n",
    "# Plotting a count plot for race/ethnicity distribution\n",
    "# sns.countplot() creates a bar plot that shows the count of observations in each categorical bin using bars.\n",
    "# x=df['race_ethnicity'] specifies the data to be plotted on the x-axis (the 'race_ethnicity' column of the DataFrame 'df').\n",
    "# data=df specifies the DataFrame containing the data.\n",
    "# palette='bright' sets the color palette to 'bright'.\n",
    "# ax=ax[0] specifies that the plot should be drawn on the first subplot.\n",
    "# saturation=0.95 sets the saturation level of the colors.\n",
    "sns.countplot(x=df['race_ethnicity'], data=df, palette='bright', ax=ax[0], saturation=0.95)\n",
    "\n",
    "# Adding labels to the bars in the count plot\n",
    "# for container in ax[0].containers iterates over all the containers (bars) in the first subplot.\n",
    "# ax[0].bar_label(container, color='black', size=20) adds labels to the bars with specified color and size.\n",
    "for container in ax[0].containers:\n",
    "    ax[0].bar_label(container, color='black', size=20)\n",
    "\n",
    "# Plotting a pie chart for race/ethnicity distribution\n",
    "# plt.pie() creates a pie chart.\n",
    "# x=df['race_ethnicity'].value_counts() provides the sizes of the wedges (the count of each race/ethnicity group).\n",
    "# labels=df['race_ethnicity'].value_counts().index specifies the labels for the wedges.\n",
    "# explode=[0.1, 0, 0, 0, 0] \"explodes\" the first wedge out slightly to emphasize it.\n",
    "# autopct='%1.1f%%' formats the labels to show percentages with one decimal place.\n",
    "# shadow=True adds a shadow to the pie chart.\n",
    "plt.pie(x=df['race_ethnicity'].value_counts(), \n",
    "        labels=df['race_ethnicity'].value_counts().index, \n",
    "        explode=[0.1, 0, 0, 0, 0], \n",
    "        autopct='%1.1f%%', \n",
    "        shadow=True)\n",
    "\n",
    "# Displaying the plots\n",
    "plt.show()\n"
   ]
  },
  {
   "cell_type": "markdown",
   "id": "1762646a",
   "metadata": {},
   "source": [
    "#### Insights \n",
    "- Most of the student belonging from group C /group D.\n",
    "- Lowest number of students belong to groupA."
   ]
  },
  {
   "cell_type": "markdown",
   "id": "2d3a3719",
   "metadata": {},
   "source": [
    "#### BIVARIATE ANALYSIS ( Is Race/Ehnicity has any impact on student's performance ? )"
   ]
  },
  {
   "cell_type": "code",
   "execution_count": null,
   "id": "db261c61",
   "metadata": {},
   "outputs": [],
   "source": [
    "# Grouping the DataFrame by the 'race/ethnicity' column\n",
    "Group_data2 = df.groupby('race_ethnicity')\n",
    "\n",
    "# Creating a figure with three subplots side by side\n",
    "f, ax = plt.subplots(1, 3, figsize=(20, 8))\n",
    "\n",
    "# Plotting the bar plot for average math scores by race/ethnicity\n",
    "sns.barplot(x=Group_data2['math_score'].mean().index, \n",
    "            y=Group_data2['math_score'].mean().values, \n",
    "            palette='mako', \n",
    "            ax=ax[0])\n",
    "ax[0].set_title('Math score', color='#005ce6', size=20)\n",
    "\n",
    "# Adding labels to the bars in the math score bar plot\n",
    "for container in ax[0].containers:\n",
    "    ax[0].bar_label(container, color='black', size=15)\n",
    "\n",
    "# Plotting the bar plot for average reading scores by race/ethnicity\n",
    "sns.barplot(x=Group_data2['reading_score'].mean().index, \n",
    "            y=Group_data2['reading_score'].mean().values, \n",
    "            palette='flare', \n",
    "            ax=ax[1])\n",
    "ax[1].set_title('Reading score', color='#005ce6', size=20)\n",
    "\n",
    "# Adding labels to the bars in the reading score bar plot\n",
    "for container in ax[1].containers:\n",
    "    ax[1].bar_label(container, color='black', size=15)\n",
    "\n",
    "# Plotting the bar plot for average writing scores by race/ethnicity\n",
    "sns.barplot(x=Group_data2['writing_score'].mean().index, \n",
    "            y=Group_data2['writing_score'].mean().values, \n",
    "            palette='coolwarm', \n",
    "            ax=ax[2])\n",
    "ax[2].set_title('Writing score', color='#005ce6', size=20)\n",
    "\n",
    "# Adding labels to the bars in the writing score bar plot\n",
    "for container in ax[2].containers:\n",
    "    ax[2].bar_label(container, color='black', size=15)\n",
    "\n",
    "# Displaying the plots\n",
    "plt.show()\n"
   ]
  },
  {
   "cell_type": "markdown",
   "id": "8e292ddd",
   "metadata": {},
   "source": [
    "#### Insights \n",
    "- Group E students have scored the highest marks. \n",
    "- Group A students have scored the lowest marks. \n",
    "- Students from a lower Socioeconomic status have a lower avg in all course subjects"
   ]
  },
  {
   "cell_type": "markdown",
   "id": "1409042e",
   "metadata": {},
   "source": [
    "#### 4.4.3 PARENTAL LEVEL OF EDUCATION COLUMN\n",
    "- What is educational background of student's parent ?\n",
    "- Is parental education has any impact on student's performance ?"
   ]
  },
  {
   "cell_type": "markdown",
   "id": "38aca4fc",
   "metadata": {},
   "source": [
    "#### UNIVARIATE ANALYSIS ( What is educational background of student's parent ? )"
   ]
  },
  {
   "cell_type": "code",
   "execution_count": null,
   "id": "c05ab987",
   "metadata": {},
   "outputs": [],
   "source": [
    "# Ensure the DataFrame has only strings in 'parental_level_of_education'\n",
    "df['parental_level_of_education'] = df['parental_level_of_education'].astype(str)\n",
    "\n",
    "# Setting the default figure size for all plots\n",
    "plt.rcParams['figure.figsize'] = (15, 9)\n",
    "\n",
    "# Applying the 'fivethirtyeight' style to the plot\n",
    "plt.style.use('fivethirtyeight')\n",
    "\n",
    "# Creating a count plot for the 'parental_level_of_education' column\n",
    "# sns.countplot() creates a bar plot that shows the count of observations in each categorical bin using bars.\n",
    "# df['parental_level_of_education'] specifies the data to be plotted on the x-axis.\n",
    "# palette='Blues' sets the color palette to 'Blues'.\n",
    "sns.countplot(df['parental_level_of_education'], palette='Blues')\n",
    "\n",
    "# Setting the title of the plot\n",
    "plt.title('Comparison of Parental Education', fontweight=30, fontsize=20)\n",
    "\n",
    "# Labeling the x-axis\n",
    "plt.xlabel('Degree')\n",
    "\n",
    "# Labeling the y-axis\n",
    "plt.ylabel('Count')\n",
    "\n",
    "# Displaying the plot\n",
    "plt.show()"
   ]
  },
  {
   "cell_type": "markdown",
   "id": "3d351e1d",
   "metadata": {},
   "source": [
    "#### Insights \n",
    "- Largest number of parents are from some college."
   ]
  },
  {
   "cell_type": "markdown",
   "id": "6f38ab41",
   "metadata": {},
   "source": [
    "#### BIVARIATE ANALYSIS ( Is parental education has any impact on student's performance ? )"
   ]
  },
  {
   "cell_type": "code",
   "execution_count": null,
   "id": "122b2581",
   "metadata": {},
   "outputs": [],
   "source": [
    "numeric_cols = df.select_dtypes(include=[np.number]).columns\n",
    "\n",
    "# Group by 'parental_level_of_education' and calculate the mean for numeric columns\n",
    "grouped_df = df.groupby('parental_level_of_education')[numeric_cols].mean()\n",
    "\n",
    "# Plot the result as a horizontal bar chart\n",
    "grouped_df.plot(kind='barh', figsize=(10, 10))\n",
    "\n",
    "# Add legend outside of the plot\n",
    "plt.legend(bbox_to_anchor=(1.05, 1), loc=2, borderaxespad=0.)\n",
    "\n",
    "# Display the plot\n",
    "plt.show()"
   ]
  },
  {
   "cell_type": "markdown",
   "id": "58b3999d",
   "metadata": {},
   "source": [
    "#### Insights \n",
    "- The score of student whose parents possess master and bachelor level education are higher than others."
   ]
  },
  {
   "cell_type": "markdown",
   "id": "079f4f29",
   "metadata": {},
   "source": [
    "#### 4.4.4 LUNCH COLUMN \n",
    "- Which type of lunch is most common amoung students ?\n",
    "- What is the effect of lunch type on test results?\n"
   ]
  },
  {
   "cell_type": "markdown",
   "id": "8584c755",
   "metadata": {},
   "source": [
    "#### UNIVARIATE ANALYSIS ( Which type of lunch is most common amoung students ? )"
   ]
  },
  {
   "cell_type": "code",
   "execution_count": null,
   "id": "a3a277e0",
   "metadata": {},
   "outputs": [],
   "source": [
    "plt.rcParams['figure.figsize'] = (15, 9)\n",
    "plt.style.use('seaborn-talk')\n",
    "sns.countplot(df['lunch'], palette = 'PuBu')\n",
    "plt.title('Comparison of different types of lunch', fontweight = 30, fontsize = 20)\n",
    "plt.xlabel('types of lunch')\n",
    "plt.ylabel('count')\n",
    "plt.show()"
   ]
  },
  {
   "cell_type": "markdown",
   "id": "332b0c50",
   "metadata": {},
   "source": [
    "#### Insights \n",
    "- Students being served Standard lunch was more than free lunch"
   ]
  },
  {
   "cell_type": "markdown",
   "id": "d75db26f",
   "metadata": {},
   "source": [
    "#### BIVARIATE ANALYSIS (  Is lunch type intake has any impact on student's performance ? )"
   ]
  },
  {
   "cell_type": "code",
   "execution_count": null,
   "id": "666babd5",
   "metadata": {},
   "outputs": [],
   "source": [
    "f,ax=plt.subplots(1,2,figsize=(20,8))\n",
    "sns.countplot(x=df['parental level of education'],data=df,palette = 'bright',hue='test preparation course',saturation=0.95,ax=ax[0])\n",
    "ax[0].set_title('Students vs test preparation course ',color='black',size=25)\n",
    "for container in ax[0].containers:\n",
    "    ax[0].bar_label(container,color='black',size=20)\n",
    "    \n",
    "sns.countplot(x=df['parental level of education'],data=df,palette = 'bright',hue='lunch',saturation=0.95,ax=ax[1])\n",
    "for container in ax[1].containers:\n",
    "    ax[1].bar_label(container,color='black',size=20)   "
   ]
  },
  {
   "cell_type": "markdown",
   "id": "0677b04c",
   "metadata": {},
   "source": [
    "#### Insights \n",
    "- Students who get Standard Lunch tend to perform better than students who got free/reduced lunch"
   ]
  },
  {
   "cell_type": "markdown",
   "id": "edd0ec29",
   "metadata": {},
   "source": [
    "#### 4.4.5 TEST PREPARATION COURSE COLUMN \n",
    "- Which type of lunch is most common amoung students ?\n",
    "- Is Test prepration course has any impact on student's performance ?"
   ]
  },
  {
   "cell_type": "markdown",
   "id": "cf8f65bd",
   "metadata": {},
   "source": [
    "#### BIVARIATE ANALYSIS ( Is Test prepration course has any impact on student's performance ? )"
   ]
  },
  {
   "cell_type": "code",
   "execution_count": null,
   "id": "1b08ed26",
   "metadata": {},
   "outputs": [],
   "source": [
    "plt.figure(figsize=(12,6))\n",
    "plt.subplot(2,2,1)\n",
    "sns.barplot (x=df['lunch'], y=df['math_score'], hue=df['test preparation course'])\n",
    "plt.subplot(2,2,2)\n",
    "sns.barplot (x=df['lunch'], y=df['reading_score'], hue=df['test preparation course'])\n",
    "plt.subplot(2,2,3)\n",
    "sns.barplot (x=df['lunch'], y=df['writing_score'], hue=df['test preparation course'])"
   ]
  },
  {
   "cell_type": "markdown",
   "id": "5bab116e",
   "metadata": {},
   "source": [
    "#### Insights  \n",
    "- Students who have completed the Test Prepration Course have scores higher in all three categories than those who haven't taken the course"
   ]
  },
  {
   "cell_type": "markdown",
   "id": "4069d6e6",
   "metadata": {},
   "source": [
    "#### 4.4.6 CHECKING OUTLIERS"
   ]
  },
  {
   "cell_type": "code",
   "execution_count": null,
   "id": "62a813a5",
   "metadata": {},
   "outputs": [],
   "source": [
    "plt.subplots(1,4,figsize=(16,5))\n",
    "plt.subplot(141)\n",
    "sns.boxplot(df['math score'],color='skyblue')\n",
    "plt.subplot(142)\n",
    "sns.boxplot(df['reading score'],color='hotpink')\n",
    "plt.subplot(143)\n",
    "sns.boxplot(df['writing score'],color='yellow')\n",
    "plt.subplot(144)\n",
    "sns.boxplot(df['average'],color='lightgreen')\n",
    "plt.show()"
   ]
  },
  {
   "cell_type": "markdown",
   "id": "957e8bef",
   "metadata": {},
   "source": [
    "#### 4.4.7 MUTIVARIATE ANALYSIS USING PAIRPLOT"
   ]
  },
  {
   "cell_type": "code",
   "execution_count": null,
   "id": "f09f746c",
   "metadata": {},
   "outputs": [],
   "source": [
    "sns.pairplot(df,hue = 'gender')\n",
    "plt.show()"
   ]
  },
  {
   "cell_type": "markdown",
   "id": "f7991322",
   "metadata": {},
   "source": [
    "#### Insights\n",
    "- From the above plot it is clear that all the scores increase linearly with each other."
   ]
  },
  {
   "cell_type": "markdown",
   "id": "b7e20716",
   "metadata": {},
   "source": [
    "### 5. Conclusions\n",
    "- Student's Performance is related with lunch, race, parental level education\n",
    "- Females lead in pass percentage and also are top-scorers\n",
    "- Student's Performance is not much related with test preparation course\n",
    "- Finishing preparation course is benefitial."
   ]
  }
 ],
 "metadata": {
  "kernelspec": {
   "display_name": "Python 3 (ipykernel)",
   "language": "python",
   "name": "python3"
  },
  "language_info": {
   "codemirror_mode": {
    "name": "ipython",
    "version": 3
   },
   "file_extension": ".py",
   "mimetype": "text/x-python",
   "name": "python",
   "nbconvert_exporter": "python",
   "pygments_lexer": "ipython3",
   "version": "3.11.5"
  },
  "vscode": {
   "interpreter": {
    "hash": "7f9dc718a552478e14f37d36e0ca2ac7de1ac15c04a40a415ea3abc3fe8a0a39"
   }
  }
 },
 "nbformat": 4,
 "nbformat_minor": 5
}
